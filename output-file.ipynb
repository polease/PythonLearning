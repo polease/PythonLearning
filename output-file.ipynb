{
 "cells": [
  {
   "cell_type": "code",
   "execution_count": null,
   "metadata": {},
   "outputs": [],
   "source": [
    "# In[3]:\n",
    "\n",
    "from bs4 import BeautifulSoup\n",
    "\n",
    "\n",
    "# In[4]:\n",
    "\n",
    "import requests\n",
    "\n",
    "\n",
    "# In[5]:\n",
    "\n",
    "response = requests.get(\"https://en.wikipedia.org/wiki/Battle_of_Winterthur\")\n",
    "\n",
    "\n",
    "# In[6]:\n",
    "\n",
    "len(response.text)\n",
    "\n",
    "\n",
    "# In[7]:\n",
    "\n",
    "\n",
    "soup = BeautifulSoup(response.text,'html.parser')\n",
    "\n",
    "\n",
    "# In[8]:\n",
    "\n",
    "soup.title\n",
    "\n",
    "\n",
    "# In[9]:\n",
    "\n",
    "soup.p\n",
    "\n",
    "\n",
    "# In[10]:\n",
    "\n",
    "soup.p.a\n",
    "\n",
    "\n",
    "# In[ ]:\n",
    "\n",
    "soup.p.find_all(\"a\")\n",
    "\n",
    "\n",
    "#%%\n",
    "soup.find(id=\"mw-content-text\").p.a.get(\"href\")"
   ]
  },
  {
   "cell_type": "code",
   "execution_count": 2,
   "metadata": {},
   "outputs": [
    {
     "name": "stdout",
     "output_type": "stream",
     "text": [
      "Enter password: ········\n",
      "Verify password: ········\n"
     ]
    },
    {
     "data": {
      "text/plain": [
       "'sha1:fbf7b3999ca0:33762797739c3eabf28e5abec00b89fee795d818'"
      ]
     },
     "execution_count": 2,
     "metadata": {},
     "output_type": "execute_result"
    }
   ],
   "source": [
    " from notebook.auth import passwd\n",
    "passwd()"
   ]
  },
  {
   "cell_type": "code",
   "execution_count": null,
   "metadata": {},
   "outputs": [],
   "source": [
    "hello"
   ]
  }
 ],
 "metadata": {
  "anaconda-cloud": {},
  "kernelspec": {
   "display_name": "Python 3",
   "language": "python",
   "name": "python3"
  },
  "language_info": {
   "codemirror_mode": {
    "name": "ipython",
    "version": 3
   },
   "file_extension": ".py",
   "mimetype": "text/x-python",
   "name": "python",
   "nbconvert_exporter": "python",
   "pygments_lexer": "ipython3",
   "version": "3.5.2"
  }
 },
 "nbformat": 4,
 "nbformat_minor": 1
}
