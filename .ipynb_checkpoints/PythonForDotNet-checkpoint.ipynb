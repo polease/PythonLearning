{
 "cells": [
  {
   "cell_type": "markdown",
   "metadata": {},
   "source": [
    "# Transition from .Net to Python"
   ]
  },
  {
   "cell_type": "markdown",
   "metadata": {},
   "source": [
    "## Meta\n",
    "|time|audience|link|content abstract|\n",
    "|------|------| ------|------|\n",
    "| 2:00 | .net/C# developer would like to learn machine learning and python programming | https://github.com/polease/PythonLearning/blob/master/PythonForDotNet.ipynb | Learn the basic about python include type, coding style and the difference or similiarity between .net development and python |\n"
   ]
  },
  {
   "cell_type": "markdown",
   "metadata": {},
   "source": [
    "## Agenda\n",
    "* [Basic Types](#Basic-Types)\n",
    "* [Basic Operations](#Basic-Operations)\n",
    "* [Basic functions](#Basic-Functions)\n",
    "* [Coding Style](#Coding-Style)\n",
    "* [Data Structure](#Data Structure)\n",
    "* [Class](#Class)\n",
    "* [Common Libs](#Common-libs)\n",
    "* Tools\n",
    "\n",
    "___"
   ]
  },
  {
   "cell_type": "markdown",
   "metadata": {},
   "source": [
    "### Basic Types\n",
    "* int\n",
    "* float\n",
    "* str\n",
    "* bool\n",
    "* object"
   ]
  },
  {
   "cell_type": "code",
   "execution_count": 105,
   "metadata": {},
   "outputs": [
    {
     "data": {
      "text/plain": [
       "int"
      ]
     },
     "execution_count": 105,
     "metadata": {},
     "output_type": "execute_result"
    }
   ],
   "source": [
    "type(1)"
   ]
  },
  {
   "cell_type": "code",
   "execution_count": 106,
   "metadata": {},
   "outputs": [
    {
     "data": {
      "text/plain": [
       "str"
      ]
     },
     "execution_count": 106,
     "metadata": {},
     "output_type": "execute_result"
    }
   ],
   "source": [
    "type(\"hello\")"
   ]
  },
  {
   "cell_type": "code",
   "execution_count": 107,
   "metadata": {},
   "outputs": [
    {
     "data": {
      "text/plain": [
       "float"
      ]
     },
     "execution_count": 107,
     "metadata": {},
     "output_type": "execute_result"
    }
   ],
   "source": [
    "type(1.5)"
   ]
  },
  {
   "cell_type": "code",
   "execution_count": 108,
   "metadata": {},
   "outputs": [
    {
     "data": {
      "text/plain": [
       "bool"
      ]
     },
     "execution_count": 108,
     "metadata": {},
     "output_type": "execute_result"
    }
   ],
   "source": [
    "type(False)"
   ]
  },
  {
   "cell_type": "code",
   "execution_count": 109,
   "metadata": {},
   "outputs": [
    {
     "data": {
      "text/plain": [
       "object"
      ]
     },
     "execution_count": 109,
     "metadata": {},
     "output_type": "execute_result"
    }
   ],
   "source": [
    "type(object())"
   ]
  },
  {
   "cell_type": "code",
   "execution_count": 110,
   "metadata": {},
   "outputs": [
    {
     "data": {
      "text/plain": [
       "1.0"
      ]
     },
     "execution_count": 110,
     "metadata": {},
     "output_type": "execute_result"
    }
   ],
   "source": [
    "# convert type\n",
    "float(1)"
   ]
  },
  {
   "cell_type": "code",
   "execution_count": 111,
   "metadata": {},
   "outputs": [
    {
     "data": {
      "text/plain": [
       "1093.0"
      ]
     },
     "execution_count": 111,
     "metadata": {},
     "output_type": "execute_result"
    }
   ],
   "source": [
    "# parse string\n",
    "anything = \"1093\"\n",
    "score = float(anything)\n",
    "score"
   ]
  },
  {
   "cell_type": "markdown",
   "metadata": {},
   "source": [
    "---"
   ]
  },
  {
   "cell_type": "markdown",
   "metadata": {},
   "source": [
    "### Basic Operations"
   ]
  },
  {
   "cell_type": "code",
   "execution_count": 112,
   "metadata": {},
   "outputs": [
    {
     "data": {
      "text/plain": [
       "3"
      ]
     },
     "execution_count": 112,
     "metadata": {},
     "output_type": "execute_result"
    }
   ],
   "source": [
    "# = + - * / %, same as C#\n",
    "1 + 3 % 2 * 2"
   ]
  },
  {
   "cell_type": "code",
   "execution_count": 113,
   "metadata": {},
   "outputs": [
    {
     "data": {
      "text/plain": [
       "1.5"
      ]
     },
     "execution_count": 113,
     "metadata": {},
     "output_type": "execute_result"
    }
   ],
   "source": [
    "# / will convert int to float\n",
    "3/2"
   ]
  },
  {
   "cell_type": "code",
   "execution_count": 114,
   "metadata": {},
   "outputs": [
    {
     "data": {
      "text/plain": [
       "1"
      ]
     },
     "execution_count": 114,
     "metadata": {},
     "output_type": "execute_result"
    }
   ],
   "source": [
    "# divide and round\n",
    "3//2"
   ]
  },
  {
   "cell_type": "code",
   "execution_count": 115,
   "metadata": {},
   "outputs": [
    {
     "data": {
      "text/plain": [
       "27"
      ]
     },
     "execution_count": 115,
     "metadata": {},
     "output_type": "execute_result"
    }
   ],
   "source": [
    "# power\n",
    "3**3"
   ]
  },
  {
   "cell_type": "code",
   "execution_count": 116,
   "metadata": {},
   "outputs": [
    {
     "data": {
      "text/plain": [
       "'hellohellohello'"
      ]
     },
     "execution_count": 116,
     "metadata": {},
     "output_type": "execute_result"
    }
   ],
   "source": [
    "# string multiplication\n",
    "\"hello\" * 3"
   ]
  },
  {
   "cell_type": "code",
   "execution_count": 117,
   "metadata": {},
   "outputs": [
    {
     "data": {
      "text/plain": [
       "True"
      ]
     },
     "execution_count": 117,
     "metadata": {},
     "output_type": "execute_result"
    }
   ],
   "source": [
    "# and, or, not = C# &&, || , !\n",
    "not ((1 == 2) or (3 == \"3\") and (4 == 4))"
   ]
  },
  {
   "cell_type": "markdown",
   "metadata": {},
   "source": [
    "---"
   ]
  },
  {
   "cell_type": "markdown",
   "metadata": {},
   "source": [
    "### Basic Functions"
   ]
  },
  {
   "cell_type": "code",
   "execution_count": 118,
   "metadata": {},
   "outputs": [
    {
     "data": {
      "text/plain": [
       "float"
      ]
     },
     "execution_count": 118,
     "metadata": {},
     "output_type": "execute_result"
    }
   ],
   "source": [
    "# Get type of object = typeof in C#\n",
    "type(1.5)"
   ]
  },
  {
   "cell_type": "code",
   "execution_count": 119,
   "metadata": {},
   "outputs": [
    {
     "name": "stdout",
     "output_type": "stream",
     "text": [
      "hello world from lin, how cool is that !\n"
     ]
    }
   ],
   "source": [
    "# write output to console = console.writeline in C#\n",
    "print(\"hello world from {}, how cool is that {}\".format(\"lin\",\"!\"))"
   ]
  },
  {
   "cell_type": "code",
   "execution_count": 120,
   "metadata": {},
   "outputs": [
    {
     "data": {
      "text/plain": [
       "11"
      ]
     },
     "execution_count": 120,
     "metadata": {},
     "output_type": "execute_result"
    }
   ],
   "source": [
    "len(\"hello world\")"
   ]
  },
  {
   "cell_type": "markdown",
   "metadata": {},
   "source": [
    "#### Tuple\n",
    "\n",
    "Tuple is immutable"
   ]
  },
  {
   "cell_type": "code",
   "execution_count": 121,
   "metadata": {},
   "outputs": [
    {
     "name": "stdout",
     "output_type": "stream",
     "text": [
      "(13.2323, 200.20002)\n",
      "<class 'tuple'>\n"
     ]
    }
   ],
   "source": [
    "# Tuple\n",
    "gps= (13.2323,200.20002)\n",
    "print(gps)\n",
    "print(type(gps))"
   ]
  },
  {
   "cell_type": "code",
   "execution_count": 122,
   "metadata": {},
   "outputs": [
    {
     "name": "stdout",
     "output_type": "stream",
     "text": [
      "13.2323 200.20002\n"
     ]
    }
   ],
   "source": [
    "# tuple assignment\n",
    "latitude, longtitude = gps\n",
    "print(latitude,longtitude)"
   ]
  },
  {
   "cell_type": "markdown",
   "metadata": {},
   "source": [
    "---"
   ]
  },
  {
   "cell_type": "markdown",
   "metadata": {},
   "source": [
    "### Data Structure\n",
    "\n",
    "Python is a dynamic programming language, everything is derived from object including basic type int/float/str. Following are the common used data types.\n",
    "\n",
    "* List\n",
    "* Set\n",
    "* Dictionary\n",
    "* Range\n",
    "* Tuple"
   ]
  },
  {
   "cell_type": "markdown",
   "metadata": {},
   "source": [
    "#### List\n",
    "List is the most powerful built-in data strucure, it's the foundation of python data science project.\n",
    "\n",
    "*Python List = C# Array + List<> + more*\n"
   ]
  },
  {
   "cell_type": "code",
   "execution_count": 123,
   "metadata": {},
   "outputs": [
    {
     "name": "stdout",
     "output_type": "stream",
     "text": [
      "<class 'list'>\n"
     ]
    },
    {
     "data": {
      "text/plain": [
       "[0, 'helloindex1', 2, 3, 4]"
      ]
     },
     "execution_count": 123,
     "metadata": {},
     "output_type": "execute_result"
    }
   ],
   "source": [
    "#Python list can store anything(object)\n",
    "list = [0,\"helloindex1\",2,3,4]\n",
    "print(type(list))\n",
    "list"
   ]
  },
  {
   "cell_type": "code",
   "execution_count": 124,
   "metadata": {},
   "outputs": [
    {
     "name": "stdout",
     "output_type": "stream",
     "text": [
      "0\n",
      "helloindex1\n",
      "4\n"
     ]
    }
   ],
   "source": [
    "# powerful indexing and reverse indexing\n",
    "print(list[0])\n",
    "print(list[1])\n",
    "print(list[-1])"
   ]
  },
  {
   "cell_type": "code",
   "execution_count": 125,
   "metadata": {},
   "outputs": [
    {
     "name": "stdout",
     "output_type": "stream",
     "text": [
      "['July', 'August', 'September']\n",
      "['March', 'April', 'May', 'June', 'July', 'August', 'September', 'October', 'November', 'December']\n"
     ]
    }
   ],
   "source": [
    "# powerful slicing\n",
    "months = ['January', 'February', 'March', 'April', 'May', 'June', 'July', 'August', 'September', 'October', 'November', 'December']\n",
    "print(months[6:9]) \n",
    "print(months[2:]) "
   ]
  },
  {
   "cell_type": "code",
   "execution_count": 126,
   "metadata": {},
   "outputs": [
    {
     "name": "stdout",
     "output_type": "stream",
     "text": [
      "12\n",
      "April\n",
      "September\n",
      "['April', 'August', 'December', 'February', 'January', 'July', 'June', 'March', 'May', 'November', 'October', 'September']\n",
      "January+February+March+April+May+June+July+August+September+October+November+December\n"
     ]
    }
   ],
   "source": [
    "# powerful built-in function : min, max, len, sorted\n",
    "# min,max,sum,sorted\n",
    "print(len(months))\n",
    "print(min(months))\n",
    "print(max(months))\n",
    "print(sorted(months))\n",
    "print(\"+\".join(months))"
   ]
  },
  {
   "cell_type": "code",
   "execution_count": 127,
   "metadata": {},
   "outputs": [
    {
     "name": "stdout",
     "output_type": "stream",
     "text": [
      "[0, 1, 'March', 'April', 'May', 'June', 'July', 'August', 'September', 'October', 'November', 'December']\n"
     ]
    }
   ],
   "source": [
    "# mutliple item editing\n",
    "months[:2] = [0,1]\n",
    "print(months)"
   ]
  },
  {
   "cell_type": "code",
   "execution_count": 128,
   "metadata": {},
   "outputs": [
    {
     "name": "stdout",
     "output_type": "stream",
     "text": [
      "[0, 1, 'March', 'April', 'May', 'June', 'July', 'August', 'September', 'October', 'November', 'December', 'great']\n"
     ]
    }
   ],
   "source": [
    "# add item\n",
    "months.append(\"great\")\n",
    "print(months)"
   ]
  },
  {
   "cell_type": "code",
   "execution_count": 129,
   "metadata": {},
   "outputs": [
    {
     "data": {
      "text/plain": [
       "13"
      ]
     },
     "execution_count": 129,
     "metadata": {},
     "output_type": "execute_result"
    }
   ],
   "source": [
    "# len of the array\n",
    "len(months)"
   ]
  },
  {
   "cell_type": "markdown",
   "metadata": {},
   "source": [
    "#### Set\n",
    "\n",
    "Unique set of items, no duplicate, not ordered\n"
   ]
  },
  {
   "cell_type": "code",
   "execution_count": 130,
   "metadata": {},
   "outputs": [
    {
     "name": "stdout",
     "output_type": "stream",
     "text": [
      "5\n",
      "3\n"
     ]
    }
   ],
   "source": [
    "countries = [\"USA\",\"CHINA\",\"INDIA\",\"USA\",\"CHINA\"]\n",
    "print(len(countries))\n",
    "countries_set =set(countries)\n",
    "print(len(countries_set))"
   ]
  },
  {
   "cell_type": "code",
   "execution_count": 131,
   "metadata": {},
   "outputs": [
    {
     "data": {
      "text/plain": [
       "{'CHINA', 'INDIA', 'RUSSIA', 'USA'}"
      ]
     },
     "execution_count": 131,
     "metadata": {},
     "output_type": "execute_result"
    }
   ],
   "source": [
    "# add item to set\n",
    "countries_set.add(\"RUSSIA\")\n",
    "countries_set"
   ]
  },
  {
   "cell_type": "markdown",
   "metadata": {},
   "source": [
    "#### Dictionary\n",
    "\n",
    "Similar to c# dictionary"
   ]
  },
  {
   "cell_type": "code",
   "execution_count": 132,
   "metadata": {},
   "outputs": [
    {
     "data": {
      "text/plain": [
       "'san marcos'"
      ]
     },
     "execution_count": 132,
     "metadata": {},
     "output_type": "execute_result"
    }
   ],
   "source": [
    "zips = {92078:\"san marcos\",92009:\"carlsbad\",91001:\"el segundo\"}\n",
    "cityname = zips[92078]\n",
    "cityname"
   ]
  },
  {
   "cell_type": "markdown",
   "metadata": {},
   "source": [
    "#### Range\n",
    "\n",
    "widely used in for loop"
   ]
  },
  {
   "cell_type": "code",
   "execution_count": 133,
   "metadata": {},
   "outputs": [
    {
     "name": "stdout",
     "output_type": "stream",
     "text": [
      "range(0, 20)\n"
     ]
    }
   ],
   "source": [
    "# range function to generate a list of numbers\n",
    "print(range(20))"
   ]
  },
  {
   "cell_type": "markdown",
   "metadata": {},
   "source": [
    "---"
   ]
  },
  {
   "cell_type": "markdown",
   "metadata": {},
   "source": [
    "### Coding Style\n",
    "\n",
    "**Simplicity**  \n",
    "* no \";\" at the end of line\n",
    "* no \"{}\" to capture the scope of function, if/else, try/catch and block of code\n",
    "* no \"()\" to if, for, while \n",
    "* **no type declaration** (this is hard to get around from .net developer)\n",
    "\n",
    "**Different**\n",
    "* use # to comment code\n",
    "* use \"\"\" for function specification\n",
    "* use \":\" and indentation to indicate starting of the scope\n",
    "* use \"elif\" instead of \"else if\"\n",
    "* \" or ' mean the same thing to declare str\n",
    "\n",
    "\n"
   ]
  },
  {
   "cell_type": "code",
   "execution_count": 134,
   "metadata": {},
   "outputs": [
    {
     "name": "stdout",
     "output_type": "stream",
     "text": [
      "there you are\n"
     ]
    }
   ],
   "source": [
    "if 100> 99:\n",
    "    print(\"there you are\")\n",
    "elif 100 > 101:\n",
    "    print(\"again\")\n",
    "else:\n",
    "    print(\"oops\")"
   ]
  },
  {
   "cell_type": "code",
   "execution_count": 135,
   "metadata": {},
   "outputs": [
    {
     "name": "stdout",
     "output_type": "stream",
     "text": [
      "0\n",
      "1\n",
      "March\n",
      "April\n",
      "May\n",
      "June\n",
      "July\n",
      "August\n",
      "September\n",
      "October\n",
      "November\n",
      "December\n",
      "great\n"
     ]
    }
   ],
   "source": [
    "# for loop\n",
    "for month in months:\n",
    "    print(month)"
   ]
  },
  {
   "cell_type": "code",
   "execution_count": 136,
   "metadata": {},
   "outputs": [
    {
     "name": "stdout",
     "output_type": "stream",
     "text": [
      "0\n",
      "1\n",
      "2\n",
      "3\n",
      "4\n",
      "5\n",
      "6\n",
      "7\n",
      "8\n",
      "9\n",
      "10\n",
      "11\n",
      "12\n"
     ]
    }
   ],
   "source": [
    "# there is no index version of for loop, so here is the mimic version \n",
    "for i in range(len(months)):\n",
    "    print(i)"
   ]
  },
  {
   "cell_type": "code",
   "execution_count": 137,
   "metadata": {},
   "outputs": [
    {
     "name": "stdout",
     "output_type": "stream",
     "text": [
      "0\n",
      "1\n",
      "2\n",
      "3\n",
      "4\n",
      "5\n",
      "6\n",
      "7\n",
      "8\n",
      "9\n",
      "10\n",
      "11\n",
      "12\n"
     ]
    }
   ],
   "source": [
    "# while loop\n",
    "i = 0\n",
    "while i < len(months):\n",
    "    print(i)\n",
    "    i+= 1"
   ]
  },
  {
   "cell_type": "code",
   "execution_count": 138,
   "metadata": {},
   "outputs": [
    {
     "name": "stdout",
     "output_type": "stream",
     "text": [
      "encounter exception\n",
      "None\n"
     ]
    }
   ],
   "source": [
    "try:\n",
    "    non_existing_city = zips[92111] #this should throw exception\n",
    "except:\n",
    "    print('encounter exception')\n",
    "non_existing_city = zips.get(92011)\n",
    "print(non_existing_city)"
   ]
  },
  {
   "cell_type": "markdown",
   "metadata": {},
   "source": [
    "#### function \n",
    "\n",
    "* no public, private\n",
    "* no parameter type\n",
    "* no return signature type\n",
    "* default return None"
   ]
  },
  {
   "cell_type": "code",
   "execution_count": 139,
   "metadata": {},
   "outputs": [
    {
     "name": "stdout",
     "output_type": "stream",
     "text": [
      "13\n",
      "99\n",
      "32\n",
      "13\n",
      "99\n",
      "-10\n",
      "32\n"
     ]
    }
   ],
   "source": [
    "def print_numbers(items,allowNegative = True):  \n",
    "    output_items = items\n",
    "    if not allowNegative:  \n",
    "        output_items = []\n",
    "        for i in items:\n",
    "            if i > 0:\n",
    "                output_items.append(i)   \n",
    "    \n",
    "    for i in output_items:\n",
    "        print(i)      \n",
    "\n",
    "items = [13,99,-10,32]\n",
    "print_numbers(items,False)\n",
    "print_numbers(items)"
   ]
  },
  {
   "cell_type": "code",
   "execution_count": 140,
   "metadata": {},
   "outputs": [
    {
     "name": "stdout",
     "output_type": "stream",
     "text": [
      "(0, 9)\n"
     ]
    }
   ],
   "source": [
    "def boundary(items):\n",
    "    return min(items),max(items)\n",
    "\n",
    "items = [7,2,9,0,4]\n",
    "print(boundary(items))"
   ]
  },
  {
   "cell_type": "markdown",
   "metadata": {},
   "source": [
    "---"
   ]
  },
  {
   "cell_type": "markdown",
   "metadata": {},
   "source": [
    "### Common Libs\n",
    "\n",
    "Python library is orgnized by module, each module can use import to include into your code. We will explore how to conduct operation on below areas via libs/modules.\n",
    "\n",
    "* Math\n",
    "* Random\n",
    "* Date\n",
    "* File\n",
    "* Network\n",
    "\n"
   ]
  },
  {
   "cell_type": "markdown",
   "metadata": {},
   "source": [
    "#### Import\n",
    "\n",
    "Import package in python is using import keyword, or from module import xx, this in C# is via using."
   ]
  },
  {
   "cell_type": "code",
   "execution_count": 141,
   "metadata": {},
   "outputs": [
    {
     "name": "stdout",
     "output_type": "stream",
     "text": [
      "20.085536923187668\n"
     ]
    }
   ],
   "source": [
    "import math\n",
    "result = math.exp(3)\n",
    "print(result)"
   ]
  },
  {
   "cell_type": "code",
   "execution_count": 142,
   "metadata": {},
   "outputs": [
    {
     "name": "stdout",
     "output_type": "stream",
     "text": [
      "hello from mymodule : there\n",
      "<module 'mymodule' from 'c:\\\\Projects\\\\PythonLearning\\\\mymodule.py'>\n"
     ]
    }
   ],
   "source": [
    "# import my own module\n",
    "import mymodule\n",
    "mymodule.hello(\"there\")\n",
    "\n",
    "print(mymodule)\n"
   ]
  },
  {
   "cell_type": "code",
   "execution_count": 143,
   "metadata": {},
   "outputs": [
    {
     "name": "stdout",
     "output_type": "stream",
     "text": [
      "hello from mymodule : again haha\n"
     ]
    }
   ],
   "source": [
    "# import object from my module\n",
    "from mymodule import hello\n",
    "hello(\"again haha\")\n"
   ]
  },
  {
   "cell_type": "code",
   "execution_count": 144,
   "metadata": {},
   "outputs": [
    {
     "name": "stdout",
     "output_type": "stream",
     "text": [
      "hello from mymodule : 3rd times\n"
     ]
    }
   ],
   "source": [
    "# import with alias name\n",
    "import mymodule as my\n",
    "my.hello(\"3rd times\")"
   ]
  },
  {
   "cell_type": "markdown",
   "metadata": {},
   "source": [
    "#### Random"
   ]
  },
  {
   "cell_type": "code",
   "execution_count": 145,
   "metadata": {},
   "outputs": [
    {
     "data": {
      "text/plain": [
       "29"
      ]
     },
     "execution_count": 145,
     "metadata": {},
     "output_type": "execute_result"
    }
   ],
   "source": [
    "import random\n",
    "rand = random.randint(0,100)\n",
    "rand"
   ]
  },
  {
   "cell_type": "code",
   "execution_count": 146,
   "metadata": {},
   "outputs": [
    {
     "data": {
      "text/plain": [
       "['USA', 'CHINA']"
      ]
     },
     "execution_count": 146,
     "metadata": {},
     "output_type": "execute_result"
    }
   ],
   "source": [
    "random.sample(countries,2)"
   ]
  },
  {
   "cell_type": "code",
   "execution_count": 147,
   "metadata": {},
   "outputs": [
    {
     "data": {
      "text/plain": [
       "'USA'"
      ]
     },
     "execution_count": 147,
     "metadata": {},
     "output_type": "execute_result"
    }
   ],
   "source": [
    "random.choice(countries)"
   ]
  },
  {
   "cell_type": "markdown",
   "metadata": {},
   "source": [
    "#### Date\n",
    "\n",
    "Python has a very good support of datetime and timezone management via datetime module. It includes:\n",
    "    timedelta,    tzinfo,    time,    date,        datetime"
   ]
  },
  {
   "cell_type": "code",
   "execution_count": 148,
   "metadata": {},
   "outputs": [
    {
     "data": {
      "text/plain": [
       "datetime.date(2017, 11, 28)"
      ]
     },
     "execution_count": 148,
     "metadata": {},
     "output_type": "execute_result"
    }
   ],
   "source": [
    "from datetime import date\n",
    "date.today()"
   ]
  },
  {
   "cell_type": "code",
   "execution_count": 149,
   "metadata": {},
   "outputs": [
    {
     "data": {
      "text/plain": [
       "datetime.date(1988, 8, 8)"
      ]
     },
     "execution_count": 149,
     "metadata": {},
     "output_type": "execute_result"
    }
   ],
   "source": [
    "d = date(1988,8,8)\n",
    "d"
   ]
  },
  {
   "cell_type": "code",
   "execution_count": 150,
   "metadata": {},
   "outputs": [
    {
     "data": {
      "text/plain": [
       "4590"
      ]
     },
     "execution_count": 150,
     "metadata": {},
     "output_type": "execute_result"
    }
   ],
   "source": [
    "d2 = date(2001,3,3)\n",
    "(d2-d).days"
   ]
  },
  {
   "cell_type": "markdown",
   "metadata": {},
   "source": [
    "#### File\n",
    "\n",
    "Reading/Write file in Python is very easy, no stream object, just file itself can read and write.\n"
   ]
  },
  {
   "cell_type": "code",
   "execution_count": 151,
   "metadata": {},
   "outputs": [
    {
     "name": "stdout",
     "output_type": "stream",
     "text": [
      "hello again\n"
     ]
    }
   ],
   "source": [
    "f = open(\"sample.txt\")\n",
    "print(f.read())\n",
    "f.close()\n",
    "f = open(\"sample.txt\",mode='w')\n",
    "f.write(\"hello again\")\n",
    "f.close()"
   ]
  },
  {
   "cell_type": "code",
   "execution_count": 152,
   "metadata": {},
   "outputs": [
    {
     "name": "stdout",
     "output_type": "stream",
     "text": [
      "hello again from inside\n",
      "hello again from outside\n"
     ]
    }
   ],
   "source": [
    "with open(\"sample.txt\") as f:\n",
    "    text = f.read() \n",
    "    print(\"{} from inside\".format(text))\n",
    "\n",
    "# below line of code still can access text variable\n",
    "print(\"{} from outside\".format(text)) "
   ]
  },
  {
   "cell_type": "markdown",
   "metadata": {},
   "source": [
    "#### Network\n",
    "\n",
    "Network request is also relative simple and clean in python.\n",
    "\n"
   ]
  },
  {
   "cell_type": "code",
   "execution_count": 153,
   "metadata": {},
   "outputs": [
    {
     "data": {
      "text/plain": [
       "'<!doctype html><html itemscope=\"\" itemtype=\"http://schema.org/WebPage\" lang=\"en\"><head><meta content'"
      ]
     },
     "execution_count": 153,
     "metadata": {},
     "output_type": "execute_result"
    }
   ],
   "source": [
    "import requests\n",
    "resp = requests.get(\"http://www.google.com\")\n",
    "resp.text[:100]"
   ]
  },
  {
   "cell_type": "code",
   "execution_count": null,
   "metadata": {},
   "outputs": [],
   "source": []
  },
  {
   "cell_type": "code",
   "execution_count": null,
   "metadata": {},
   "outputs": [],
   "source": []
  },
  {
   "cell_type": "markdown",
   "metadata": {},
   "source": [
    "## Classes\n",
    "Python is advanced dynamics programing language. It has very good support of class and object oriented programming.\n",
    "\n"
   ]
  },
  {
   "cell_type": "code",
   "execution_count": 154,
   "metadata": {},
   "outputs": [],
   "source": [
    "from datetime import date\n",
    "from datetime import timedelta\n",
    "\n",
    "class Car:\n",
    "    mileage = 0\n",
    "    make = \"toyota\"\n",
    "    model = 'prius'\n",
    "    last_mainteinance_date = date\n",
    "    \n",
    "    # construction function = C# public Car(xxx)\n",
    "    def __init__(self, mileage,make,model,last_mainteinance_date = date.today()):\n",
    "        self.mileage = mileage\n",
    "        self.make = make\n",
    "        self.model = model\n",
    "        self.last_mainteinance_date = last_mainteinance_date\n",
    "    \n",
    "    def next_mainteinance(self):\n",
    "        next_milage = (self.mileage // 5000 + 1) * 5000\n",
    "        next_date = self.last_mainteinance_date + timedelta(days=90)\n",
    "        return next_milage,next_date\n",
    "    \n",
    "    # = c# ToString\n",
    "    def __str__(self): \n",
    "        return \",\".join([str(self.mileage),self.make,self.model,str(self.last_mainteinance_date)])\n",
    "\n",
    "    "
   ]
  },
  {
   "cell_type": "code",
   "execution_count": 155,
   "metadata": {},
   "outputs": [
    {
     "data": {
      "text/plain": [
       "'accord'"
      ]
     },
     "execution_count": 155,
     "metadata": {},
     "output_type": "execute_result"
    }
   ],
   "source": [
    "my_car = Car(23000,\"honda\",\"accord\") # = C# new Car(XXX)\n",
    "my_car.model\n"
   ]
  },
  {
   "cell_type": "code",
   "execution_count": 156,
   "metadata": {},
   "outputs": [
    {
     "data": {
      "text/plain": [
       "<__main__.Car at 0x6c2b0aa940>"
      ]
     },
     "execution_count": 156,
     "metadata": {},
     "output_type": "execute_result"
    }
   ],
   "source": [
    "my_car"
   ]
  },
  {
   "cell_type": "code",
   "execution_count": 157,
   "metadata": {},
   "outputs": [
    {
     "name": "stdout",
     "output_type": "stream",
     "text": [
      "23000,honda,accord,2017-11-28\n"
     ]
    }
   ],
   "source": [
    "print(my_car)"
   ]
  },
  {
   "cell_type": "code",
   "execution_count": 158,
   "metadata": {},
   "outputs": [
    {
     "data": {
      "text/plain": [
       "(25000, datetime.date(2018, 2, 26))"
      ]
     },
     "execution_count": 158,
     "metadata": {},
     "output_type": "execute_result"
    }
   ],
   "source": [
    "my_car.next_mainteinance()"
   ]
  },
  {
   "cell_type": "markdown",
   "metadata": {},
   "source": [
    "# Resources\n",
    "|time|audience|link|content abstract|\n",
    "|------|------| ------|------|\n",
    "| 10:00 | anyone even without programming experience |https://www.udacity.com/course/introduction-to-python--ud1110 | An detail courseware to lear python from scratch, it also have labs, as always high quality udacity course |\n",
    "| 1:00 |C#/Dot net developer | https://www.youtube.com/watch?v=6TSvV2rsQHg | An one hour side by side comparision between C# and python |"
   ]
  }
 ],
 "metadata": {
  "kernelspec": {
   "display_name": "Python 3",
   "language": "python",
   "name": "python3"
  },
  "language_info": {
   "codemirror_mode": {
    "name": "ipython",
    "version": 3
   },
   "file_extension": ".py",
   "mimetype": "text/x-python",
   "name": "python",
   "nbconvert_exporter": "python",
   "pygments_lexer": "ipython3",
   "version": "3.5.2"
  }
 },
 "nbformat": 4,
 "nbformat_minor": 2
}
