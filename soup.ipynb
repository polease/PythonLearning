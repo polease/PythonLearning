{
 "cells": [
  {
   "cell_type": "code",
   "execution_count": 3,
   "metadata": {
    "nbpresent": {
     "id": "0b81d578-85df-4f3d-b18b-61010bb650b8"
    }
   },
   "outputs": [],
   "source": [
    "from bs4 import BeautifulSoup"
   ]
  },
  {
   "cell_type": "code",
   "execution_count": 4,
   "metadata": {
    "collapsed": true,
    "nbpresent": {
     "id": "73135c35-d843-478c-bf79-5c56c4243bff"
    }
   },
   "outputs": [],
   "source": [
    "import requests"
   ]
  },
  {
   "cell_type": "code",
   "execution_count": 5,
   "metadata": {
    "collapsed": true,
    "nbpresent": {
     "id": "fa549ad7-882b-4bf1-9f05-0ea8536d190c"
    }
   },
   "outputs": [],
   "source": [
    "response = requests.get(\"https://en.wikipedia.org/wiki/Battle_of_Winterthur\")"
   ]
  },
  {
   "cell_type": "code",
   "execution_count": 6,
   "metadata": {
    "nbpresent": {
     "id": "bc750bfc-2855-41b0-a041-16d1a2bee2cf"
    }
   },
   "outputs": [
    {
     "data": {
      "text/plain": [
       "117253"
      ]
     },
     "execution_count": 6,
     "metadata": {},
     "output_type": "execute_result"
    }
   ],
   "source": [
    "len(response.text)"
   ]
  },
  {
   "cell_type": "code",
   "execution_count": 7,
   "metadata": {
    "collapsed": true,
    "nbpresent": {
     "id": "c5ac8979-2eb9-4ec5-9a85-d431eb86ae9e"
    }
   },
   "outputs": [],
   "source": [
    "soup = BeautifulSoup(response.text,'html.parser')"
   ]
  },
  {
   "cell_type": "code",
   "execution_count": 8,
   "metadata": {
    "nbpresent": {
     "id": "926dcfc9-13ef-4894-9192-64c7fa699bf4"
    }
   },
   "outputs": [
    {
     "data": {
      "text/plain": [
       "<title>Battle of Winterthur - Wikipedia</title>"
      ]
     },
     "execution_count": 8,
     "metadata": {},
     "output_type": "execute_result"
    }
   ],
   "source": [
    "soup.title"
   ]
  },
  {
   "cell_type": "code",
   "execution_count": 9,
   "metadata": {
    "nbpresent": {
     "id": "41e56ced-a15f-4218-9d1c-d18ed4cfaafa"
    }
   },
   "outputs": [
    {
     "data": {
      "text/plain": [
       "<p><span style=\"font-size: small;\"><span id=\"coordinates\"><a href=\"/wiki/Geographic_coordinate_system\" title=\"Geographic coordinate system\">Coordinates</a>: <span class=\"plainlinks nourlexpansion\"><a class=\"external text\" href=\"//tools.wmflabs.org/geohack/geohack.php?pagename=Battle_of_Winterthur&amp;params=47_30_N_8_45_E_\"><span class=\"geo-default\"><span class=\"geo-dms\" title=\"Maps, aerial photos, and other data for this location\"><span class=\"latitude\">47°30′N</span> <span class=\"longitude\">8°45′E</span></span></span><span class=\"geo-multi-punct\">﻿ / ﻿</span><span class=\"geo-nondefault\"><span class=\"geo-dec\" title=\"Maps, aerial photos, and other data for this location\">47.500°N 8.750°E</span><span style=\"display:none\">﻿ / <span class=\"geo\">47.500; 8.750</span></span></span></a></span></span></span></p>"
      ]
     },
     "execution_count": 9,
     "metadata": {},
     "output_type": "execute_result"
    }
   ],
   "source": [
    "soup.p"
   ]
  },
  {
   "cell_type": "code",
   "execution_count": 10,
   "metadata": {
    "nbpresent": {
     "id": "15dee0db-58db-4a40-907c-08a7709b11a5"
    }
   },
   "outputs": [
    {
     "data": {
      "text/plain": [
       "<a href=\"/wiki/Geographic_coordinate_system\" title=\"Geographic coordinate system\">Coordinates</a>"
      ]
     },
     "execution_count": 10,
     "metadata": {},
     "output_type": "execute_result"
    }
   ],
   "source": [
    "soup.p.a"
   ]
  },
  {
   "cell_type": "code",
   "execution_count": 11,
   "metadata": {
    "nbpresent": {
     "id": "302e04f5-b072-40ca-a5fa-476c7be694a1"
    }
   },
   "outputs": [
    {
     "data": {
      "text/plain": [
       "[<a href=\"/wiki/Geographic_coordinate_system\" title=\"Geographic coordinate system\">Coordinates</a>,\n",
       " <a class=\"external text\" href=\"//tools.wmflabs.org/geohack/geohack.php?pagename=Battle_of_Winterthur&amp;params=47_30_N_8_45_E_\"><span class=\"geo-default\"><span class=\"geo-dms\" title=\"Maps, aerial photos, and other data for this location\"><span class=\"latitude\">47°30′N</span> <span class=\"longitude\">8°45′E</span></span></span><span class=\"geo-multi-punct\">﻿ / ﻿</span><span class=\"geo-nondefault\"><span class=\"geo-dec\" title=\"Maps, aerial photos, and other data for this location\">47.500°N 8.750°E</span><span style=\"display:none\">﻿ / <span class=\"geo\">47.500; 8.750</span></span></span></a>]"
      ]
     },
     "execution_count": 11,
     "metadata": {},
     "output_type": "execute_result"
    }
   ],
   "source": [
    "soup.p.find_all(\"a\")"
   ]
  },
  {
   "cell_type": "code",
   "execution_count": 12,
   "metadata": {
    "nbpresent": {
     "id": "c745c71f-bf18-45a5-961f-515deadb75af"
    }
   },
   "outputs": [
    {
     "ename": "SyntaxError",
     "evalue": "invalid syntax (<ipython-input-12-e9ff32737148>, line 2)",
     "output_type": "error",
     "traceback": [
      "\u001b[0;36m  File \u001b[0;32m\"<ipython-input-12-e9ff32737148>\"\u001b[0;36m, line \u001b[0;32m2\u001b[0m\n\u001b[0;31m    if target_url = search_history[-1] or len(search_history) > 25 or target_url in search_history\u001b[0m\n\u001b[0m                  ^\u001b[0m\n\u001b[0;31mSyntaxError\u001b[0m\u001b[0;31m:\u001b[0m invalid syntax\n"
     ]
    }
   ],
   "source": [
    "def continue_crawl(search_history,target_url)  :\n",
    "    if target_url = search_history[-1] or len(search_history) > 25 or target_url in search_history\n",
    "  "
   ]
  },
  {
   "cell_type": "code",
   "execution_count": 13,
   "metadata": {},
   "outputs": [
    {
     "ename": "SyntaxError",
     "evalue": "invalid syntax (<ipython-input-13-8c1a57634737>, line 3)",
     "output_type": "error",
     "traceback": [
      "\u001b[0;36m  File \u001b[0;32m\"<ipython-input-13-8c1a57634737>\"\u001b[0;36m, line \u001b[0;32m3\u001b[0m\n\u001b[0;31m    return not() target_url = search_history[-1] or len(search_history) > 25 or target_url in search_history)\u001b[0m\n\u001b[0m                          ^\u001b[0m\n\u001b[0;31mSyntaxError\u001b[0m\u001b[0;31m:\u001b[0m invalid syntax\n"
     ]
    }
   ],
   "source": [
    "\n",
    "def continue_crawl(search_history,target_url):\n",
    "    return not() target_url = search_history[-1] or len(search_history) > 25 or target_url in search_history)"
   ]
  },
  {
   "cell_type": "code",
   "execution_count": 14,
   "metadata": {},
   "outputs": [
    {
     "ename": "SyntaxError",
     "evalue": "invalid syntax (<ipython-input-14-0f227325816d>, line 3)",
     "output_type": "error",
     "traceback": [
      "\u001b[0;36m  File \u001b[0;32m\"<ipython-input-14-0f227325816d>\"\u001b[0;36m, line \u001b[0;32m3\u001b[0m\n\u001b[0;31m    return not(target_url = search_history[-1] or len(search_history) > 25 or target_url in search_history)\u001b[0m\n\u001b[0m                          ^\u001b[0m\n\u001b[0;31mSyntaxError\u001b[0m\u001b[0;31m:\u001b[0m invalid syntax\n"
     ]
    }
   ],
   "source": [
    "\n",
    "def continue_crawl(search_history,target_url):\n",
    "    return not(target_url = search_history[-1] or len(search_history) > 25 or target_url in search_history)"
   ]
  },
  {
   "cell_type": "code",
   "execution_count": null,
   "metadata": {
    "collapsed": true
   },
   "outputs": [],
   "source": []
  }
 ],
 "metadata": {
  "anaconda-cloud": {},
  "kernelspec": {
   "display_name": "Python 3",
   "language": "python",
   "name": "python3"
  },
  "language_info": {
   "codemirror_mode": {
    "name": "ipython",
    "version": 3
   },
   "file_extension": ".py",
   "mimetype": "text/x-python",
   "name": "python",
   "nbconvert_exporter": "python",
   "pygments_lexer": "ipython3",
   "version": "3.5.2"
  },
  "nbpresent": {
   "slides": {
    "01704558-b250-4b43-86b9-ed67dab64118": {
     "id": "01704558-b250-4b43-86b9-ed67dab64118",
     "prev": "580ce1c5-0fdd-41d2-9701-d12ec213b842",
     "regions": {
      "413097ae-8dec-4da5-8718-95dd53b4ef57": {
       "attrs": {
        "height": 0.8,
        "width": 0.8,
        "x": 0.1,
        "y": 0.1
       },
       "content": {
        "cell": "bc750bfc-2855-41b0-a041-16d1a2bee2cf",
        "part": "whole"
       },
       "id": "413097ae-8dec-4da5-8718-95dd53b4ef57"
      }
     }
    },
    "0adbc41b-f417-41d9-b617-d30da159caa9": {
     "id": "0adbc41b-f417-41d9-b617-d30da159caa9",
     "layout": "manual",
     "prev": null,
     "regions": {
      "6af55bb8-82bd-4b25-afad-6f76bf0fc1a8": {
       "attrs": {
        "height": 1,
        "pad": 0.01,
        "treemap:weight": 1,
        "width": 1,
        "x": 0,
        "y": 0
       },
       "content": {
        "cell": "73135c35-d843-478c-bf79-5c56c4243bff",
        "part": "whole"
       },
       "id": "6af55bb8-82bd-4b25-afad-6f76bf0fc1a8"
      },
      "af727514-3faa-418a-b13c-d59211d0169c": {
       "attrs": {
        "height": 0.8,
        "width": 0.8,
        "x": 0.12175414364640892,
        "y": 0.1607734806629834
       },
       "id": "af727514-3faa-418a-b13c-d59211d0169c"
      }
     }
    },
    "327794f5-d891-43a8-83cc-eb197a131e3c": {
     "id": "327794f5-d891-43a8-83cc-eb197a131e3c",
     "prev": "01704558-b250-4b43-86b9-ed67dab64118",
     "regions": {
      "ef6e7243-48d9-492f-a0d7-0796568892bb": {
       "attrs": {
        "height": 0.8,
        "width": 0.8,
        "x": 0.1,
        "y": 0.1
       },
       "content": {
        "cell": "c5ac8979-2eb9-4ec5-9a85-d431eb86ae9e",
        "part": "whole"
       },
       "id": "ef6e7243-48d9-492f-a0d7-0796568892bb"
      }
     }
    },
    "510b5b35-f1e7-46d2-ae65-c986aba11fa0": {
     "id": "510b5b35-f1e7-46d2-ae65-c986aba11fa0",
     "prev": "c0786ed4-60fd-4037-a623-b5b2f483c0a2",
     "regions": {
      "4127a6e0-de80-4601-b67e-de0431883896": {
       "attrs": {
        "height": 0.8,
        "width": 0.8,
        "x": 0.1,
        "y": 0.1
       },
       "content": {
        "cell": "41e56ced-a15f-4218-9d1c-d18ed4cfaafa",
        "part": "whole"
       },
       "id": "4127a6e0-de80-4601-b67e-de0431883896"
      }
     }
    },
    "57cea5cc-5630-4b5e-883e-00296d67d744": {
     "id": "57cea5cc-5630-4b5e-883e-00296d67d744",
     "prev": "770e468e-a6f2-42c8-b221-904bb31e0a83",
     "regions": {
      "f19c4595-1d44-416b-a88b-06253a810dfd": {
       "attrs": {
        "height": 0.8,
        "width": 0.8,
        "x": 0.1,
        "y": 0.1
       },
       "content": {
        "cell": "c745c71f-bf18-45a5-961f-515deadb75af",
        "part": "whole"
       },
       "id": "f19c4595-1d44-416b-a88b-06253a810dfd"
      }
     }
    },
    "580ce1c5-0fdd-41d2-9701-d12ec213b842": {
     "id": "580ce1c5-0fdd-41d2-9701-d12ec213b842",
     "prev": "fa581b64-9749-49c8-9f73-cb8762733229",
     "regions": {
      "3b018543-986a-4954-ac77-2903f903791e": {
       "attrs": {
        "height": 0.8,
        "width": 0.8,
        "x": 0.05959944751381224,
        "y": 0.006077348066298311
       },
       "content": {
        "cell": "fa549ad7-882b-4bf1-9f05-0ea8536d190c",
        "part": "whole"
       },
       "id": "3b018543-986a-4954-ac77-2903f903791e"
      }
     }
    },
    "615f8790-b221-49fb-ace3-5d2a8d9b52d7": {
     "id": "615f8790-b221-49fb-ace3-5d2a8d9b52d7",
     "prev": "510b5b35-f1e7-46d2-ae65-c986aba11fa0",
     "regions": {
      "58b91231-e81c-49c5-bf04-c16740268102": {
       "attrs": {
        "height": 0.8,
        "width": 0.8,
        "x": 0.1,
        "y": 0.1
       },
       "content": {
        "cell": "15dee0db-58db-4a40-907c-08a7709b11a5",
        "part": "whole"
       },
       "id": "58b91231-e81c-49c5-bf04-c16740268102"
      }
     }
    },
    "770e468e-a6f2-42c8-b221-904bb31e0a83": {
     "id": "770e468e-a6f2-42c8-b221-904bb31e0a83",
     "prev": "615f8790-b221-49fb-ace3-5d2a8d9b52d7",
     "regions": {
      "e8e0de58-d17d-4794-acfe-b03eabe9ab43": {
       "attrs": {
        "height": 0.8,
        "width": 0.8,
        "x": 0.1,
        "y": 0.1
       },
       "content": {
        "cell": "302e04f5-b072-40ca-a5fa-476c7be694a1",
        "part": "whole"
       },
       "id": "e8e0de58-d17d-4794-acfe-b03eabe9ab43"
      }
     }
    },
    "c0786ed4-60fd-4037-a623-b5b2f483c0a2": {
     "id": "c0786ed4-60fd-4037-a623-b5b2f483c0a2",
     "prev": "327794f5-d891-43a8-83cc-eb197a131e3c",
     "regions": {
      "c72415bd-160d-49dd-a550-d687e4aad9bb": {
       "attrs": {
        "height": 0.8,
        "width": 0.8,
        "x": 0.1,
        "y": 0.1
       },
       "content": {
        "cell": "926dcfc9-13ef-4894-9192-64c7fa699bf4",
        "part": "whole"
       },
       "id": "c72415bd-160d-49dd-a550-d687e4aad9bb"
      }
     }
    },
    "fa581b64-9749-49c8-9f73-cb8762733229": {
     "id": "fa581b64-9749-49c8-9f73-cb8762733229",
     "prev": "0adbc41b-f417-41d9-b617-d30da159caa9",
     "regions": {
      "1af6fb2c-00de-4960-a285-75c7defe4f30": {
       "attrs": {
        "height": 0.8,
        "width": 0.45,
        "x": 0.5,
        "y": 0.1
       },
       "id": "1af6fb2c-00de-4960-a285-75c7defe4f30"
      },
      "7edcfba7-cb2f-4ba1-a842-2efb5db5156c": {
       "attrs": {
        "height": 0.8,
        "width": 0.45000000000000007,
        "x": 0.047201759381215506,
        "y": 0.09372348676243088
       },
       "id": "7edcfba7-cb2f-4ba1-a842-2efb5db5156c"
      },
      "b57835b0-276d-40b5-af58-d191f69682d7": {
       "attrs": {
        "height": 0.8,
        "width": 0.8,
        "x": 0.1372928176795581,
        "y": 0.13867403314917123
       },
       "id": "b57835b0-276d-40b5-af58-d191f69682d7"
      }
     }
    }
   },
   "themes": {}
  }
 },
 "nbformat": 4,
 "nbformat_minor": 1
}
